{
 "cells": [
  {
   "cell_type": "markdown",
   "id": "5d77de9a-f2ee-4e93-96af-456d92b632c3",
   "metadata": {},
   "source": [
    "# Data Science Tools and Ecostystem"
   ]
  },
  {
   "cell_type": "markdown",
   "id": "7c086a01-21d2-46e0-99f8-30ff15c9ad1c",
   "metadata": {},
   "source": [
    "In this notebook, Data Science Tools and Ecosystem are summarized."
   ]
  },
  {
   "cell_type": "markdown",
   "id": "9aa4a2d6-52cb-426f-8fe9-4376e91e0b51",
   "metadata": {},
   "source": [
    "**Objectives:**\n",
    "* List popular languages for Data Science\n",
    "* Identify commonly used Data Science libraries\n",
    "* Understand different Data Science tools"
   ]
  },
  {
   "cell_type": "markdown",
   "id": "f1d68a55-a6be-4812-ae93-a96649efccb5",
   "metadata": {},
   "source": [
    "Some of the popular languages that Data Scientists use are:\n",
    "1. Python\n",
    "2. R\n",
    "3. SQL"
   ]
  },
  {
   "cell_type": "markdown",
   "id": "fbaa53be-6db9-43e0-a9bd-38d4cd22c19e",
   "metadata": {},
   "source": [
    "Some of the commonly used libraries used by Data Scientists include:\n",
    "1. Pandas\n",
    "2. NumPy\n",
    "2. Matplotlib"
   ]
  },
  {
   "cell_type": "markdown",
   "id": "2354c0bd-8176-4839-9128-f555084b750e",
   "metadata": {},
   "source": [
    "| Data Science Tools       |\n",
    "|--------------------------|\n",
    "| Jupyter Notebook          |\n",
    "| RStudio                   |\n",
    "| Apache Zeppelin           |\n"
   ]
  },
  {
   "cell_type": "markdown",
   "id": "7fdf0922-dfa8-42f1-aaa2-ced414e20f0c",
   "metadata": {},
   "source": [
    "### Below are a few examples of evaluating arithmetic expressions in Python"
   ]
  },
  {
   "cell_type": "code",
   "execution_count": 3,
   "id": "9fff5840-0a7d-42fa-a84e-ddd42ee0e835",
   "metadata": {
    "tags": []
   },
   "outputs": [
    {
     "data": {
      "text/plain": [
       "17"
      ]
     },
     "execution_count": 3,
     "metadata": {},
     "output_type": "execute_result"
    }
   ],
   "source": [
    "#This is as simple arithmetic expression to multiply then add integers\n",
    "(3*4)+5"
   ]
  },
  {
   "cell_type": "code",
   "execution_count": 5,
   "id": "7aa83311-98a8-4b80-a56d-c8565ec8585e",
   "metadata": {
    "tags": []
   },
   "outputs": [
    {
     "data": {
      "text/plain": [
       "3.3333333333333335"
      ]
     },
     "execution_count": 5,
     "metadata": {},
     "output_type": "execute_result"
    }
   ],
   "source": [
    "#This will convert 200 minutes to hours, by dividing by 60\n",
    "200/60"
   ]
  },
  {
   "cell_type": "markdown",
   "id": "2e1d99c7-d703-4928-9988-2ce6a963fee5",
   "metadata": {},
   "source": [
    "## Author\n",
    "Daniel Ribeiro"
   ]
  }
 ],
 "metadata": {
  "kernelspec": {
   "display_name": "Python",
   "language": "python",
   "name": "conda-env-python-py"
  },
  "language_info": {
   "codemirror_mode": {
    "name": "ipython",
    "version": 3
   },
   "file_extension": ".py",
   "mimetype": "text/x-python",
   "name": "python",
   "nbconvert_exporter": "python",
   "pygments_lexer": "ipython3",
   "version": "3.7.12"
  }
 },
 "nbformat": 4,
 "nbformat_minor": 5
}
